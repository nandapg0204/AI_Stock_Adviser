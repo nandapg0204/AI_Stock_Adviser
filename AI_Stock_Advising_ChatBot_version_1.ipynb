{
  "cells": [
    {
      "cell_type": "code",
      "execution_count": 1,
      "metadata": {
        "colab": {
          "base_uri": "https://localhost:8080/"
        },
        "id": "oJE-O6HfyBSn",
        "outputId": "dd310783-7bac-433d-e1de-e2349c061abe"
      },
      "outputs": [
        {
          "output_type": "stream",
          "name": "stdout",
          "text": [
            "Requirement already satisfied: langchain in /usr/local/lib/python3.10/dist-packages (0.2.11)\n",
            "Requirement already satisfied: langchain_community in /usr/local/lib/python3.10/dist-packages (0.2.10)\n",
            "Requirement already satisfied: openai==0.28 in /usr/local/lib/python3.10/dist-packages (0.28.0)\n",
            "Requirement already satisfied: requests>=2.20 in /usr/local/lib/python3.10/dist-packages (from openai==0.28) (2.31.0)\n",
            "Requirement already satisfied: tqdm in /usr/local/lib/python3.10/dist-packages (from openai==0.28) (4.66.4)\n",
            "Requirement already satisfied: aiohttp in /usr/local/lib/python3.10/dist-packages (from openai==0.28) (3.9.5)\n",
            "Requirement already satisfied: PyYAML>=5.3 in /usr/local/lib/python3.10/dist-packages (from langchain) (6.0.1)\n",
            "Requirement already satisfied: SQLAlchemy<3,>=1.4 in /usr/local/lib/python3.10/dist-packages (from langchain) (2.0.31)\n",
            "Requirement already satisfied: async-timeout<5.0.0,>=4.0.0 in /usr/local/lib/python3.10/dist-packages (from langchain) (4.0.3)\n",
            "Requirement already satisfied: langchain-core<0.3.0,>=0.2.23 in /usr/local/lib/python3.10/dist-packages (from langchain) (0.2.26)\n",
            "Requirement already satisfied: langchain-text-splitters<0.3.0,>=0.2.0 in /usr/local/lib/python3.10/dist-packages (from langchain) (0.2.2)\n",
            "Requirement already satisfied: langsmith<0.2.0,>=0.1.17 in /usr/local/lib/python3.10/dist-packages (from langchain) (0.1.95)\n",
            "Requirement already satisfied: numpy<2,>=1 in /usr/local/lib/python3.10/dist-packages (from langchain) (1.26.4)\n",
            "Requirement already satisfied: pydantic<3,>=1 in /usr/local/lib/python3.10/dist-packages (from langchain) (2.8.2)\n",
            "Requirement already satisfied: tenacity!=8.4.0,<9.0.0,>=8.1.0 in /usr/local/lib/python3.10/dist-packages (from langchain) (8.5.0)\n",
            "Requirement already satisfied: dataclasses-json<0.7,>=0.5.7 in /usr/local/lib/python3.10/dist-packages (from langchain_community) (0.6.7)\n",
            "Requirement already satisfied: aiosignal>=1.1.2 in /usr/local/lib/python3.10/dist-packages (from aiohttp->openai==0.28) (1.3.1)\n",
            "Requirement already satisfied: attrs>=17.3.0 in /usr/local/lib/python3.10/dist-packages (from aiohttp->openai==0.28) (23.2.0)\n",
            "Requirement already satisfied: frozenlist>=1.1.1 in /usr/local/lib/python3.10/dist-packages (from aiohttp->openai==0.28) (1.4.1)\n",
            "Requirement already satisfied: multidict<7.0,>=4.5 in /usr/local/lib/python3.10/dist-packages (from aiohttp->openai==0.28) (6.0.5)\n",
            "Requirement already satisfied: yarl<2.0,>=1.0 in /usr/local/lib/python3.10/dist-packages (from aiohttp->openai==0.28) (1.9.4)\n",
            "Requirement already satisfied: marshmallow<4.0.0,>=3.18.0 in /usr/local/lib/python3.10/dist-packages (from dataclasses-json<0.7,>=0.5.7->langchain_community) (3.21.3)\n",
            "Requirement already satisfied: typing-inspect<1,>=0.4.0 in /usr/local/lib/python3.10/dist-packages (from dataclasses-json<0.7,>=0.5.7->langchain_community) (0.9.0)\n",
            "Requirement already satisfied: jsonpatch<2.0,>=1.33 in /usr/local/lib/python3.10/dist-packages (from langchain-core<0.3.0,>=0.2.23->langchain) (1.33)\n",
            "Requirement already satisfied: packaging<25,>=23.2 in /usr/local/lib/python3.10/dist-packages (from langchain-core<0.3.0,>=0.2.23->langchain) (24.1)\n",
            "Requirement already satisfied: typing-extensions>=4.7 in /usr/local/lib/python3.10/dist-packages (from langchain-core<0.3.0,>=0.2.23->langchain) (4.12.2)\n",
            "Requirement already satisfied: orjson<4.0.0,>=3.9.14 in /usr/local/lib/python3.10/dist-packages (from langsmith<0.2.0,>=0.1.17->langchain) (3.10.6)\n",
            "Requirement already satisfied: annotated-types>=0.4.0 in /usr/local/lib/python3.10/dist-packages (from pydantic<3,>=1->langchain) (0.7.0)\n",
            "Requirement already satisfied: pydantic-core==2.20.1 in /usr/local/lib/python3.10/dist-packages (from pydantic<3,>=1->langchain) (2.20.1)\n",
            "Requirement already satisfied: charset-normalizer<4,>=2 in /usr/local/lib/python3.10/dist-packages (from requests>=2.20->openai==0.28) (3.3.2)\n",
            "Requirement already satisfied: idna<4,>=2.5 in /usr/local/lib/python3.10/dist-packages (from requests>=2.20->openai==0.28) (3.7)\n",
            "Requirement already satisfied: urllib3<3,>=1.21.1 in /usr/local/lib/python3.10/dist-packages (from requests>=2.20->openai==0.28) (2.0.7)\n",
            "Requirement already satisfied: certifi>=2017.4.17 in /usr/local/lib/python3.10/dist-packages (from requests>=2.20->openai==0.28) (2024.7.4)\n",
            "Requirement already satisfied: greenlet!=0.4.17 in /usr/local/lib/python3.10/dist-packages (from SQLAlchemy<3,>=1.4->langchain) (3.0.3)\n",
            "Requirement already satisfied: jsonpointer>=1.9 in /usr/local/lib/python3.10/dist-packages (from jsonpatch<2.0,>=1.33->langchain-core<0.3.0,>=0.2.23->langchain) (3.0.0)\n",
            "Requirement already satisfied: mypy-extensions>=0.3.0 in /usr/local/lib/python3.10/dist-packages (from typing-inspect<1,>=0.4.0->dataclasses-json<0.7,>=0.5.7->langchain_community) (1.0.0)\n",
            "Requirement already satisfied: matplotlib in /usr/local/lib/python3.10/dist-packages (3.7.1)\n",
            "Requirement already satisfied: pillow in /usr/local/lib/python3.10/dist-packages (9.4.0)\n",
            "Requirement already satisfied: contourpy>=1.0.1 in /usr/local/lib/python3.10/dist-packages (from matplotlib) (1.2.1)\n",
            "Requirement already satisfied: cycler>=0.10 in /usr/local/lib/python3.10/dist-packages (from matplotlib) (0.12.1)\n",
            "Requirement already satisfied: fonttools>=4.22.0 in /usr/local/lib/python3.10/dist-packages (from matplotlib) (4.53.1)\n",
            "Requirement already satisfied: kiwisolver>=1.0.1 in /usr/local/lib/python3.10/dist-packages (from matplotlib) (1.4.5)\n",
            "Requirement already satisfied: numpy>=1.20 in /usr/local/lib/python3.10/dist-packages (from matplotlib) (1.26.4)\n",
            "Requirement already satisfied: packaging>=20.0 in /usr/local/lib/python3.10/dist-packages (from matplotlib) (24.1)\n",
            "Requirement already satisfied: pyparsing>=2.3.1 in /usr/local/lib/python3.10/dist-packages (from matplotlib) (3.1.2)\n",
            "Requirement already satisfied: python-dateutil>=2.7 in /usr/local/lib/python3.10/dist-packages (from matplotlib) (2.8.2)\n",
            "Requirement already satisfied: six>=1.5 in /usr/local/lib/python3.10/dist-packages (from python-dateutil>=2.7->matplotlib) (1.16.0)\n",
            "Requirement already satisfied: duckduckgo-search in /usr/local/lib/python3.10/dist-packages (6.2.5)\n",
            "Requirement already satisfied: click>=8.1.7 in /usr/local/lib/python3.10/dist-packages (from duckduckgo-search) (8.1.7)\n",
            "Requirement already satisfied: primp>=0.5.5 in /usr/local/lib/python3.10/dist-packages (from duckduckgo-search) (0.5.5)\n"
          ]
        }
      ],
      "source": [
        "!pip install langchain langchain_community openai==0.28\n",
        "!pip install matplotlib pillow\n",
        "!pip install -U duckduckgo-search"
      ]
    },
    {
      "cell_type": "code",
      "execution_count": 2,
      "metadata": {
        "id": "1ewhO5P2xss9"
      },
      "outputs": [],
      "source": [
        "import os\n",
        "import time\n",
        "from bs4 import BeautifulSoup\n",
        "import re\n",
        "import requests\n",
        "import warnings\n",
        "\n",
        "import langchain\n",
        "from langchain.llms import OpenAI\n",
        "from langchain.agents import load_tools, AgentType, Tool, initialize_agent"
      ]
    },
    {
      "cell_type": "code",
      "execution_count": 3,
      "metadata": {
        "id": "b-DbkzxvzIRy"
      },
      "outputs": [],
      "source": [
        "import os\n",
        "import time\n",
        "from bs4 import BeautifulSoup\n",
        "import re\n",
        "import requests\n",
        "import warnings\n",
        "\n",
        "import langchain\n",
        "from langchain.llms import OpenAI\n",
        "from langchain.agents import load_tools, AgentType, Tool, initialize_agent"
      ]
    },
    {
      "cell_type": "code",
      "execution_count": 28,
      "metadata": {
        "id": "zM41MNWDzND5"
      },
      "outputs": [],
      "source": [
        "os.environ[\"OPENAI_API_KEY\"] = 'ENTER YOUR API KEY HERE'\n",
        "\n",
        "warnings.filterwarnings(\"ignore\")"
      ]
    },
    {
      "cell_type": "code",
      "execution_count": 5,
      "metadata": {
        "id": "jO60Raz7zd2J"
      },
      "outputs": [],
      "source": [
        "llm=OpenAI(temperature=0,\n",
        "           model_name=\"gpt-4o-mini\")"
      ]
    },
    {
      "cell_type": "markdown",
      "metadata": {
        "id": "L0QMbute1DAc"
      },
      "source": [
        "# Tools"
      ]
    },
    {
      "cell_type": "markdown",
      "metadata": {
        "id": "lfgGdOIZvlGb"
      },
      "source": [
        "**Finding the ticker symbol of the stock**"
      ]
    },
    {
      "cell_type": "code",
      "execution_count": 7,
      "metadata": {
        "id": "OUPa66xHS-si"
      },
      "outputs": [],
      "source": [
        "from langchain.output_parsers import ResponseSchema\n",
        "from langchain.output_parsers import StructuredOutputParser\n",
        "from langchain.prompts import ChatPromptTemplate\n",
        "\n",
        "def find_ticker_symbol(customer_question):\n",
        "\n",
        "    ticker_symbol_schema = ResponseSchema(\n",
        "        name=\"ticker_symbol\",\n",
        "        description= \"Extract the ticker symbol for the stock mentioned in the text. If the ticker symbol for the given stock name cannot be identified or does not exist, return 'NOTFOUND'. \\Ensure that the extracted ticker symbol is accurate and corresponds directly to the stock name provided.\"\n",
        "    )\n",
        "\n",
        "    output_parser = StructuredOutputParser.from_response_schemas([ticker_symbol_schema])\n",
        "    format_instructions = output_parser.get_format_instructions()\n",
        "\n",
        "    review_template = f\"\"\"\\\n",
        "    For the following text, extract the following information:\n",
        "\n",
        "    ticker_symbol: Extract the ticker symbol for the stock mentioned in the text.\\\n",
        "     If the ticker symbol for the given stock name cannot be identified or does not exist, return 'NOTFOUND'. \\\n",
        "     Ensure that the extracted ticker symbol is accurate and corresponds directly to the stock name provided.\n",
        "    text: {{text}}\n",
        "\n",
        "    {{format_instructions}}\n",
        "    \"\"\"\n",
        "    prompt_template = ChatPromptTemplate.from_template(review_template)\n",
        "\n",
        "    messages = prompt_template.format_messages(text=customer_question, format_instructions=format_instructions)\n",
        "\n",
        "    # Invoke the LLM with the formatted messages\n",
        "    response = llm.invoke(messages)\n",
        "\n",
        "    # Parse the output from the response\n",
        "    try:\n",
        "        output_dict = output_parser.parse(response)\n",
        "        return output_dict.get(\"ticker_symbol\", \"NOTFOUND\")\n",
        "    except Exception as e:\n",
        "        print(f\"Error processing response: {e}\")\n",
        "        return \"NOTFOUND\"\n",
        "\n",
        "#print(find_ticker_symbol(\"How is the APPLE stock doing today\"))\n"
      ]
    },
    {
      "cell_type": "markdown",
      "metadata": {
        "id": "Er3vDJnmvxCF"
      },
      "source": [
        "**Function for finding the basic information of the stock**"
      ]
    },
    {
      "cell_type": "code",
      "execution_count": 8,
      "metadata": {
        "id": "2UrVooQPZChU"
      },
      "outputs": [],
      "source": [
        "import yfinance as yf\n",
        "\n",
        "def basic_stock_info(customer_question):\n",
        "  ticker_symbol = find_ticker_symbol(customer_question)\n",
        "  if ticker_symbol == \"NOTFOUND\":\n",
        "    return \"Error processing stock name in the question\"\n",
        "  try:\n",
        "    ticker = yf.Ticker(ticker_symbol)\n",
        "  except Exception as e:\n",
        "    return(\"Error processing response\")\n",
        "\n",
        "  info = ticker.info\n",
        "\n",
        "  company_info = (\n",
        "    f\"Below are the Basic details of {info['longName']} ::\\n\"\n",
        "    f\"Company name: {info['longName']},\\n\"\n",
        "    f\"Current price: {info['currentPrice']},\\n\"\n",
        "    f\"Market cap: {info['marketCap']},\\n\"\n",
        "    f\"PE Ratio (Trailing): {info['trailingPE']},\\n\"\n",
        "    f\"Dividend Yield: {info['dividendYield'] * 100:.2f}%,\\n\"\n",
        "    f\"52-Week High: {info['fiftyTwoWeekHigh']} USD,\\n\"\n",
        "    f\"52-Week Low: {info['fiftyTwoWeekLow']} USD, \\n\"\n",
        "    f\"Forward PE Ratio: {info['forwardPE']},\"\n",
        "  )\n",
        "\n",
        "  return company_info\n",
        "\n",
        "#print(basic_stock_info(\"AAPL\"))"
      ]
    },
    {
      "cell_type": "markdown",
      "metadata": {
        "id": "VEDpUbH2wFyd"
      },
      "source": [
        "**Function for finding any specfic information or details of the stock**"
      ]
    },
    {
      "cell_type": "code",
      "execution_count": 9,
      "metadata": {
        "id": "_CpdTyD3vVnT"
      },
      "outputs": [],
      "source": [
        "import yfinance as yf\n",
        "import json\n",
        "\n",
        "def specific_stock_inforatiom(customer_question):\n",
        "  ticker_symbol = find_ticker_symbol(customer_question)\n",
        "  if ticker_symbol == \"NOTFOUND\":\n",
        "    return \"Error processing stock name in the question\"\n",
        "  try:\n",
        "    ticker = yf.Ticker(ticker_symbol)\n",
        "  except Exception as e:\n",
        "    return(\"Error processing response\")\n",
        "\n",
        "  details = str([\n",
        "    str(ticker.info),\n",
        "    ticker.recommendations.to_string(),\n",
        "    ticker.balance_sheet.to_string(),\n",
        "    ticker.financials.to_string(),\n",
        "    ticker.cashflow.to_string(),\n",
        "    ticker.actions.to_string(),\n",
        "    ticker.sustainability.to_string(),\n",
        "    ticker.institutional_holders.to_string(),\n",
        "    ticker.mutualfund_holders.to_string(),\n",
        "    ticker.major_holders.to_string()\n",
        "  ])\n",
        "\n",
        "  return details\n",
        "\n",
        "#print(specific_stock_inforatiom(\"How is APPLE looking today\"))"
      ]
    },
    {
      "cell_type": "markdown",
      "source": [
        "**Function for plotting the historic stock price**"
      ],
      "metadata": {
        "id": "9pXasnf7h829"
      }
    },
    {
      "cell_type": "code",
      "source": [
        "import matplotlib.pyplot as plt\n",
        "\n",
        "def generate_matplotlib_graph(customer_query, filename='graph.png'):\n",
        "  ticker_symbol = find_ticker_symbol(customer_query)\n",
        "  if ticker_symbol == \"NOTFOUND\":\n",
        "    return \"Error processing stock name in the question\"\n",
        "  try:\n",
        "    ticker = yf.Ticker(ticker_symbol)\n",
        "  except Exception as e:\n",
        "    return(\"Error processing response\")\n",
        "\n",
        "  try:\n",
        "    historical_data = ticker.history(period=\"max\")\n",
        "  except Exception as e:\n",
        "    return \"Error fetching historical data: \" + str(e)\n",
        "\n",
        "  plt.plot(historical_data.index, historical_data[\"Close\"], linestyle='-', color='b')\n",
        "  plt.ylabel(\"Price in USD\")\n",
        "  plt.title(\"Historic stock price\")\n",
        "  plt.grid(True)\n",
        "\n",
        "  image_path = os.path.join(\"/content\", filename)\n",
        "\n",
        "  try:\n",
        "    plt.savefig(image_path)\n",
        "  except Exception as e:\n",
        "    return \"Error saving plot: \" + str(e)\n",
        "  finally:\n",
        "        plt.close()\n",
        "\n",
        "  return image_path\n",
        "generate_matplotlib_graph(\"Apple stock\")"
      ],
      "metadata": {
        "colab": {
          "base_uri": "https://localhost:8080/",
          "height": 35
        },
        "id": "TxpmXvXKiBe1",
        "outputId": "0afdd170-0e6e-4864-fa42-71104b6ce54a"
      },
      "execution_count": 10,
      "outputs": [
        {
          "output_type": "execute_result",
          "data": {
            "text/plain": [
              "'/content/graph.png'"
            ],
            "application/vnd.google.colaboratory.intrinsic+json": {
              "type": "string"
            }
          },
          "metadata": {},
          "execution_count": 10
        }
      ]
    },
    {
      "cell_type": "markdown",
      "source": [
        "**Finding the agent execution tool chain**"
      ],
      "metadata": {
        "id": "ynYXuCBC78A8"
      }
    },
    {
      "cell_type": "code",
      "source": [
        "import re\n",
        "def find_tools_chain(intermediate_string):\n",
        "  # Define the patterns\n",
        "  intermediate_string = str(intermediate_string)\n",
        "  tool_pattern = re.compile(r\"tool='([^']*)'\")\n",
        "  tool_input_pattern = re.compile(r\"tool_input='([^']*)'\")\n",
        "\n",
        "  # Find the matchees\n",
        "  tools = tool_pattern.findall(intermediate_string)\n",
        "  tool_inputs = tool_input_pattern.findall(intermediate_string)\n",
        "\n",
        "  tool_chain = \" --> \".join(tools)\n",
        "\n",
        "  return tool_chain\n",
        "#find_tools_chain(response[\"intermediate_steps\"])"
      ],
      "metadata": {
        "id": "en4zoUBK8AiX"
      },
      "execution_count": 11,
      "outputs": []
    },
    {
      "cell_type": "code",
      "execution_count": 12,
      "metadata": {
        "id": "sRr6AD7BUtm7"
      },
      "outputs": [],
      "source": [
        "import langchain\n",
        "from langchain.llms import OpenAI\n",
        "from langchain.agents import load_tools, AgentType, Tool, initialize_agent"
      ]
    },
    {
      "cell_type": "code",
      "execution_count": 13,
      "metadata": {
        "colab": {
          "base_uri": "https://localhost:8080/",
          "height": 35
        },
        "id": "jP6T9AQgVl2V",
        "outputId": "bfced669-98dd-4309-b4e9-9d467df30a5a"
      },
      "outputs": [
        {
          "output_type": "execute_result",
          "data": {
            "text/plain": [
              "'Hello! How can I assist you today?'"
            ],
            "application/vnd.google.colaboratory.intrinsic+json": {
              "type": "string"
            }
          },
          "metadata": {},
          "execution_count": 13
        }
      ],
      "source": [
        "llm.invoke(\"Hello\")"
      ]
    },
    {
      "cell_type": "code",
      "execution_count": 14,
      "metadata": {
        "id": "ejTzwigPVuj7"
      },
      "outputs": [],
      "source": [
        "tools = [\n",
        "    Tool(\n",
        "        name = \"find stock ticker symbol\",\n",
        "        func =  find_ticker_symbol ,\n",
        "        description = \"Use when you want to extract the ticker symbol of the stock\"\n",
        "\n",
        "    ),\n",
        "    Tool(\n",
        "        name = \"specific stock information\",\n",
        "        func = specific_stock_inforatiom ,\n",
        "        description = \"Use when to find the specific details or information of the stock\"\n",
        "    ),\n",
        "    Tool(\n",
        "        name = \"Historic stock plot\",\n",
        "        func = generate_matplotlib_graph ,\n",
        "        description = \"Use when you want to show or display the image path of image of historic stock price \"\n",
        "    )\n",
        "]\n"
      ]
    },
    {
      "cell_type": "code",
      "execution_count": 15,
      "metadata": {
        "id": "AuIGvI_hWcv1"
      },
      "outputs": [],
      "source": [
        "from langchain.agents import initialize_agent\n",
        "\n",
        "zero_shot_agent=initialize_agent(\n",
        "    llm=llm,\n",
        "    agent=\"zero-shot-react-description\",\n",
        "    tools=tools,\n",
        "    verbose=False,\n",
        "    max_iteration=4,\n",
        "    return_intermediate_steps=True,\n",
        "    handle_parsing_errors=True\n",
        ")"
      ]
    },
    {
      "cell_type": "code",
      "execution_count": 16,
      "metadata": {
        "colab": {
          "base_uri": "https://localhost:8080/"
        },
        "id": "s_29Wa6UWf59",
        "outputId": "40cf8b4a-d8aa-40ba-e07d-a5d93f792de9"
      },
      "outputs": [
        {
          "output_type": "stream",
          "name": "stdout",
          "text": [
            "Answer the following questions as best you can. You have access to the following tools:\n",
            "\n",
            "find stock ticker symbol(customer_question) - Use when you want to extract the ticker symbol of the stock\n",
            "specific stock information(customer_question) - Use when to find the specific details or information of the stock\n",
            "Historic stock plot(customer_query, filename='graph.png') - Use when you want to show or display the image path of image of historic stock price \n",
            "\n",
            "Use the following format:\n",
            "\n",
            "Question: the input question you must answer\n",
            "Thought: you should always think about what to do\n",
            "Action: the action to take, should be one of [find stock ticker symbol, specific stock information, Historic stock plot]\n",
            "Action Input: the input to the action\n",
            "Observation: the result of the action\n",
            "... (this Thought/Action/Action Input/Observation can repeat N times)\n",
            "Thought: I now know the final answer\n",
            "Final Answer: the final answer to the original input question\n",
            "\n",
            "Begin!\n",
            "\n",
            "Question: {input}\n",
            "Thought:{agent_scratchpad}\n"
          ]
        }
      ],
      "source": [
        "print(zero_shot_agent.agent.llm_chain.prompt.template)"
      ]
    },
    {
      "cell_type": "code",
      "execution_count": 17,
      "metadata": {
        "id": "ufjk8IKIye2I"
      },
      "outputs": [],
      "source": [
        "new_prompt = \"\"\"You are a financial advisor Chatbot.Keep the reponses small and concise.You are a financial advisor tasked with\n",
        "advising the users with the stock information.I\n",
        "\n",
        "Answer the following questions as best you can .You have access to the following tools:\n",
        "\n",
        "find stock ticker symbol(customer_question) - Use when you want to extract the ticker symbol of the stock\n",
        "specific stock information(customer_question) - Use when to find the information or detials  of a stock\n",
        "Historic stock plot(customer_query, filename='graph.png') - Use when you want to show or display the image path of image of historic stock price\n",
        "\n",
        "\n",
        "Use the following format:\n",
        "\n",
        "Question: the input question you must answer\n",
        "Thought: you should always think about what to do\n",
        "Action: the action to take, should be one of [find stock ticker symbol, basic stock info]\n",
        "Action Input: the input to the action\n",
        "Observation: the result of the action\n",
        "... (this Thought/Action/Action Input/Observation can repeat N times)\n",
        "Thought: I now know the final answer\n",
        "Final Answer: the final answer to the original input question\n",
        "\n",
        "Begin!\n",
        "\n",
        "Question: {input}\n",
        "Thought:{agent_scratchpad}\"\"\""
      ]
    },
    {
      "cell_type": "code",
      "execution_count": 18,
      "metadata": {
        "id": "EDkQd8OwYqnq"
      },
      "outputs": [],
      "source": [
        "zero_shot_agent.agent.llm_chain.prompt.template=new_prompt"
      ]
    },
    {
      "cell_type": "code",
      "execution_count": 19,
      "metadata": {
        "colab": {
          "base_uri": "https://localhost:8080/"
        },
        "id": "VReItAg5Yt8L",
        "outputId": "03d82384-a4aa-48f5-d3cb-493cd2cd355e"
      },
      "outputs": [
        {
          "output_type": "stream",
          "name": "stdout",
          "text": [
            "Apple Inc. (AAPL) is a leading technology company specializing in consumer electronics, with a current stock price of $218.36. It has a market cap of approximately $3.35 trillion, a dividend yield of 0.45%, and a trailing P/E ratio of 33.91. The stock is generally rated as a \"buy\" by analysts. For more details, visit [Apple's Investor Relations](http://investor.apple.com/).\n",
            "Execution tool chain ::\n",
            "  find stock ticker symbol --> specific stock information\n"
          ]
        },
        {
          "output_type": "execute_result",
          "data": {
            "text/plain": [
              "(None, None)"
            ]
          },
          "metadata": {},
          "execution_count": 19
        }
      ],
      "source": [
        "response = zero_shot_agent(\"How does apple stock looks like\")\n",
        "print(response[\"output\"]), print(\"Execution tool chain ::\\n \",find_tools_chain(response[\"intermediate_steps\"]))"
      ]
    },
    {
      "cell_type": "code",
      "execution_count": 20,
      "metadata": {
        "colab": {
          "base_uri": "https://localhost:8080/"
        },
        "id": "D3nSQJO4ruTQ",
        "outputId": "6ad6f465-1993-4c0a-f5e7-6f638c1d4595"
      },
      "outputs": [
        {
          "output_type": "stream",
          "name": "stdout",
          "text": [
            "The ticker symbol for NVIDIA stock is NVDA.\n",
            "Execution tool chain ::\n",
            "  find stock ticker symbol\n"
          ]
        },
        {
          "output_type": "execute_result",
          "data": {
            "text/plain": [
              "(None, None)"
            ]
          },
          "metadata": {},
          "execution_count": 20
        }
      ],
      "source": [
        "response = zero_shot_agent(\"What is the ticker symbol of NVIDIA stock\")\n",
        "print(response[\"output\"]), print(\"Execution tool chain ::\\n \",find_tools_chain(response[\"intermediate_steps\"]))"
      ]
    },
    {
      "cell_type": "code",
      "execution_count": 21,
      "metadata": {
        "colab": {
          "base_uri": "https://localhost:8080/"
        },
        "id": "S5aDaH38dX2Q",
        "outputId": "ab378294-7fea-4085-ec3a-0747faa75a88"
      },
      "outputs": [
        {
          "output_type": "stream",
          "name": "stdout",
          "text": [
            "I couldn't find any information on NANDA stock. Please check the name or provide a different stock.\n",
            "Execution tool chain ::\n",
            "  find stock ticker symbol\n"
          ]
        },
        {
          "output_type": "execute_result",
          "data": {
            "text/plain": [
              "(None, None)"
            ]
          },
          "metadata": {},
          "execution_count": 21
        }
      ],
      "source": [
        "response = zero_shot_agent(\"Give me the basic details of the NANDA stock\")\n",
        "print(response[\"output\"]), print(\"Execution tool chain ::\\n \",find_tools_chain(response[\"intermediate_steps\"]))"
      ]
    },
    {
      "cell_type": "code",
      "execution_count": 22,
      "metadata": {
        "colab": {
          "base_uri": "https://localhost:8080/"
        },
        "id": "w-za9dgbsxs9",
        "outputId": "bdfd5454-6142-44c7-f0a1-dd34bcb61747"
      },
      "outputs": [
        {
          "output_type": "stream",
          "name": "stdout",
          "text": [
            "NVIDIA (NVDA) had a strong last quarter performance with a net income of approximately $29.76 billion and total revenue of about $60.92 billion.\n",
            "Execution tool chain ::\n",
            "  find stock ticker symbol --> specific stock information\n"
          ]
        },
        {
          "output_type": "execute_result",
          "data": {
            "text/plain": [
              "(None, None)"
            ]
          },
          "metadata": {},
          "execution_count": 22
        }
      ],
      "source": [
        "response = zero_shot_agent(\"Give me last quarter  performance of the nvidia stock\")\n",
        "print(response[\"output\"]), print(\"Execution tool chain ::\\n \",find_tools_chain(response[\"intermediate_steps\"]))"
      ]
    },
    {
      "cell_type": "code",
      "source": [
        "response = zero_shot_agent(\"What is return on Assets of the nvidia stock\")\n",
        "print(response[\"output\"]), print(\"Execution tool chain ::\\n \",find_tools_chain(response[\"intermediate_steps\"]))"
      ],
      "metadata": {
        "colab": {
          "base_uri": "https://localhost:8080/"
        },
        "id": "xkDEU0mx1qzG",
        "outputId": "cdef5c87-d3fa-49ae-96ba-27dc6b2f4053"
      },
      "execution_count": 23,
      "outputs": [
        {
          "output_type": "stream",
          "name": "stdout",
          "text": [
            "The return on assets (ROA) for NVIDIA (NVDA) is approximately 49.1%.\n",
            "Execution tool chain ::\n",
            "  find stock ticker symbol --> specific stock information\n"
          ]
        },
        {
          "output_type": "execute_result",
          "data": {
            "text/plain": [
              "(None, None)"
            ]
          },
          "metadata": {},
          "execution_count": 23
        }
      ]
    },
    {
      "cell_type": "code",
      "source": [
        "response = zero_shot_agent(\"Give me a stock name which i should not invest with an example and why(Show the details)\")\n",
        "print(response[\"output\"]), print(\"Execution tool chain ::\\n \",find_tools_chain(response[\"intermediate_steps\"]))"
      ],
      "metadata": {
        "colab": {
          "base_uri": "https://localhost:8080/"
        },
        "id": "6UsLCjfemDLT",
        "outputId": "9953a102-22d6-4e18-bf0c-6fbb3593872e"
      },
      "execution_count": 24,
      "outputs": [
        {
          "output_type": "stream",
          "name": "stderr",
          "text": [
            "ERROR:yfinance:404 Client Error: Not Found for url: https://query2.finance.yahoo.com/v10/finance/quoteSummary/GME?modules=esgScores&corsDomain=finance.yahoo.com&formatted=false&symbol=GME&crumb=NuvJgWJhTla\n"
          ]
        },
        {
          "output_type": "stream",
          "name": "stdout",
          "text": [
            "GameStop Corp. (GME) is often advised against due to its high volatility, significant debt, and poor financial performance, including a trailing P/E ratio of 271.375 and negative revenue growth of -28.7%.\n",
            "Execution tool chain ::\n",
            "  find stock ticker symbol --> specific stock information\n"
          ]
        },
        {
          "output_type": "execute_result",
          "data": {
            "text/plain": [
              "(None, None)"
            ]
          },
          "metadata": {},
          "execution_count": 24
        }
      ]
    },
    {
      "cell_type": "code",
      "source": [
        "response = zero_shot_agent(\"What is the current price of the apple stock\")\n",
        "print(response[\"output\"]), print(\"Execution tool chain ::\\n \",find_tools_chain(response[\"intermediate_steps\"]))"
      ],
      "metadata": {
        "colab": {
          "base_uri": "https://localhost:8080/"
        },
        "id": "FH_N9JCPmnTz",
        "outputId": "e326a728-00bf-44fd-85b2-cbd9343fe80f"
      },
      "execution_count": 25,
      "outputs": [
        {
          "output_type": "stream",
          "name": "stdout",
          "text": [
            "The current price of Apple stock (AAPL) is $218.36.\n",
            "Execution tool chain ::\n",
            "  find stock ticker symbol --> specific stock information\n"
          ]
        },
        {
          "output_type": "execute_result",
          "data": {
            "text/plain": [
              "(None, None)"
            ]
          },
          "metadata": {},
          "execution_count": 25
        }
      ]
    },
    {
      "cell_type": "code",
      "source": [
        "response = zero_shot_agent(\"Show me a plot of  apple stock price over years\")\n",
        "print(response[\"output\"]), print(\"Execution tool chain ::\\n \",find_tools_chain(response[\"intermediate_steps\"]))"
      ],
      "metadata": {
        "colab": {
          "base_uri": "https://localhost:8080/"
        },
        "id": "4eJLaOAa2U42",
        "outputId": "cbea260e-45f5-4efe-b11f-353807303822"
      },
      "execution_count": 27,
      "outputs": [
        {
          "output_type": "stream",
          "name": "stdout",
          "text": [
            "Here is the plot of Apple (AAPL) stock price over the years: /content/graph.png\n",
            "Execution tool chain ::\n",
            "  find stock ticker symbol --> Historic stock plot\n"
          ]
        },
        {
          "output_type": "execute_result",
          "data": {
            "text/plain": [
              "(None, None)"
            ]
          },
          "metadata": {},
          "execution_count": 27
        }
      ]
    }
  ],
  "metadata": {
    "colab": {
      "provenance": []
    },
    "kernelspec": {
      "display_name": "Python 3",
      "name": "python3"
    },
    "language_info": {
      "name": "python"
    }
  },
  "nbformat": 4,
  "nbformat_minor": 0
}