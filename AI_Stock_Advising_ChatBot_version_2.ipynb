{
  "cells": [
    {
      "cell_type": "code",
      "execution_count": null,
      "metadata": {
        "colab": {
          "base_uri": "https://localhost:8080/"
        },
        "id": "oJE-O6HfyBSn",
        "outputId": "03f5c219-6d2c-4a50-8d49-d113213fc6f0"
      },
      "outputs": [
        {
          "output_type": "stream",
          "name": "stdout",
          "text": [
            "Collecting langchain\n",
            "  Downloading langchain-0.2.12-py3-none-any.whl.metadata (7.1 kB)\n",
            "Collecting langchain_community\n",
            "  Downloading langchain_community-0.2.11-py3-none-any.whl.metadata (2.7 kB)\n",
            "Collecting openai==0.28\n",
            "  Downloading openai-0.28.0-py3-none-any.whl.metadata (13 kB)\n",
            "Requirement already satisfied: requests>=2.20 in /usr/local/lib/python3.10/dist-packages (from openai==0.28) (2.31.0)\n",
            "Requirement already satisfied: tqdm in /usr/local/lib/python3.10/dist-packages (from openai==0.28) (4.66.4)\n",
            "Requirement already satisfied: aiohttp in /usr/local/lib/python3.10/dist-packages (from openai==0.28) (3.9.5)\n",
            "Requirement already satisfied: PyYAML>=5.3 in /usr/local/lib/python3.10/dist-packages (from langchain) (6.0.1)\n",
            "Requirement already satisfied: SQLAlchemy<3,>=1.4 in /usr/local/lib/python3.10/dist-packages (from langchain) (2.0.31)\n",
            "Requirement already satisfied: async-timeout<5.0.0,>=4.0.0 in /usr/local/lib/python3.10/dist-packages (from langchain) (4.0.3)\n",
            "Collecting langchain-core<0.3.0,>=0.2.27 (from langchain)\n",
            "  Downloading langchain_core-0.2.28-py3-none-any.whl.metadata (6.2 kB)\n",
            "Collecting langchain-text-splitters<0.3.0,>=0.2.0 (from langchain)\n",
            "  Downloading langchain_text_splitters-0.2.2-py3-none-any.whl.metadata (2.1 kB)\n",
            "Collecting langsmith<0.2.0,>=0.1.17 (from langchain)\n",
            "  Downloading langsmith-0.1.96-py3-none-any.whl.metadata (13 kB)\n",
            "Requirement already satisfied: numpy<2,>=1 in /usr/local/lib/python3.10/dist-packages (from langchain) (1.26.4)\n",
            "Requirement already satisfied: pydantic<3,>=1 in /usr/local/lib/python3.10/dist-packages (from langchain) (2.8.2)\n",
            "Collecting tenacity!=8.4.0,<9.0.0,>=8.1.0 (from langchain)\n",
            "  Downloading tenacity-8.5.0-py3-none-any.whl.metadata (1.2 kB)\n",
            "Collecting dataclasses-json<0.7,>=0.5.7 (from langchain_community)\n",
            "  Downloading dataclasses_json-0.6.7-py3-none-any.whl.metadata (25 kB)\n",
            "Requirement already satisfied: aiosignal>=1.1.2 in /usr/local/lib/python3.10/dist-packages (from aiohttp->openai==0.28) (1.3.1)\n",
            "Requirement already satisfied: attrs>=17.3.0 in /usr/local/lib/python3.10/dist-packages (from aiohttp->openai==0.28) (23.2.0)\n",
            "Requirement already satisfied: frozenlist>=1.1.1 in /usr/local/lib/python3.10/dist-packages (from aiohttp->openai==0.28) (1.4.1)\n",
            "Requirement already satisfied: multidict<7.0,>=4.5 in /usr/local/lib/python3.10/dist-packages (from aiohttp->openai==0.28) (6.0.5)\n",
            "Requirement already satisfied: yarl<2.0,>=1.0 in /usr/local/lib/python3.10/dist-packages (from aiohttp->openai==0.28) (1.9.4)\n",
            "Collecting marshmallow<4.0.0,>=3.18.0 (from dataclasses-json<0.7,>=0.5.7->langchain_community)\n",
            "  Downloading marshmallow-3.21.3-py3-none-any.whl.metadata (7.1 kB)\n",
            "Collecting typing-inspect<1,>=0.4.0 (from dataclasses-json<0.7,>=0.5.7->langchain_community)\n",
            "  Downloading typing_inspect-0.9.0-py3-none-any.whl.metadata (1.5 kB)\n",
            "Collecting jsonpatch<2.0,>=1.33 (from langchain-core<0.3.0,>=0.2.27->langchain)\n",
            "  Downloading jsonpatch-1.33-py2.py3-none-any.whl.metadata (3.0 kB)\n",
            "Requirement already satisfied: packaging<25,>=23.2 in /usr/local/lib/python3.10/dist-packages (from langchain-core<0.3.0,>=0.2.27->langchain) (24.1)\n",
            "Requirement already satisfied: typing-extensions>=4.7 in /usr/local/lib/python3.10/dist-packages (from langchain-core<0.3.0,>=0.2.27->langchain) (4.12.2)\n",
            "Collecting orjson<4.0.0,>=3.9.14 (from langsmith<0.2.0,>=0.1.17->langchain)\n",
            "  Downloading orjson-3.10.6-cp310-cp310-manylinux_2_17_x86_64.manylinux2014_x86_64.whl.metadata (50 kB)\n",
            "\u001b[2K     \u001b[90m━━━━━━━━━━━━━━━━━━━━━━━━━━━━━━━━━━━━━━━━\u001b[0m \u001b[32m50.4/50.4 kB\u001b[0m \u001b[31m972.1 kB/s\u001b[0m eta \u001b[36m0:00:00\u001b[0m\n",
            "\u001b[?25hRequirement already satisfied: annotated-types>=0.4.0 in /usr/local/lib/python3.10/dist-packages (from pydantic<3,>=1->langchain) (0.7.0)\n",
            "Requirement already satisfied: pydantic-core==2.20.1 in /usr/local/lib/python3.10/dist-packages (from pydantic<3,>=1->langchain) (2.20.1)\n",
            "Requirement already satisfied: charset-normalizer<4,>=2 in /usr/local/lib/python3.10/dist-packages (from requests>=2.20->openai==0.28) (3.3.2)\n",
            "Requirement already satisfied: idna<4,>=2.5 in /usr/local/lib/python3.10/dist-packages (from requests>=2.20->openai==0.28) (3.7)\n",
            "Requirement already satisfied: urllib3<3,>=1.21.1 in /usr/local/lib/python3.10/dist-packages (from requests>=2.20->openai==0.28) (2.0.7)\n",
            "Requirement already satisfied: certifi>=2017.4.17 in /usr/local/lib/python3.10/dist-packages (from requests>=2.20->openai==0.28) (2024.7.4)\n",
            "Requirement already satisfied: greenlet!=0.4.17 in /usr/local/lib/python3.10/dist-packages (from SQLAlchemy<3,>=1.4->langchain) (3.0.3)\n",
            "Collecting jsonpointer>=1.9 (from jsonpatch<2.0,>=1.33->langchain-core<0.3.0,>=0.2.27->langchain)\n",
            "  Downloading jsonpointer-3.0.0-py2.py3-none-any.whl.metadata (2.3 kB)\n",
            "Collecting mypy-extensions>=0.3.0 (from typing-inspect<1,>=0.4.0->dataclasses-json<0.7,>=0.5.7->langchain_community)\n",
            "  Downloading mypy_extensions-1.0.0-py3-none-any.whl.metadata (1.1 kB)\n",
            "Downloading openai-0.28.0-py3-none-any.whl (76 kB)\n",
            "\u001b[2K   \u001b[90m━━━━━━━━━━━━━━━━━━━━━━━━━━━━━━━━━━━━━━━━\u001b[0m \u001b[32m76.5/76.5 kB\u001b[0m \u001b[31m3.6 MB/s\u001b[0m eta \u001b[36m0:00:00\u001b[0m\n",
            "\u001b[?25hDownloading langchain-0.2.12-py3-none-any.whl (990 kB)\n",
            "\u001b[2K   \u001b[90m━━━━━━━━━━━━━━━━━━━━━━━━━━━━━━━━━━━━━━━━\u001b[0m \u001b[32m990.6/990.6 kB\u001b[0m \u001b[31m17.8 MB/s\u001b[0m eta \u001b[36m0:00:00\u001b[0m\n",
            "\u001b[?25hDownloading langchain_community-0.2.11-py3-none-any.whl (2.3 MB)\n",
            "\u001b[2K   \u001b[90m━━━━━━━━━━━━━━━━━━━━━━━━━━━━━━━━━━━━━━━━\u001b[0m \u001b[32m2.3/2.3 MB\u001b[0m \u001b[31m24.1 MB/s\u001b[0m eta \u001b[36m0:00:00\u001b[0m\n",
            "\u001b[?25hDownloading dataclasses_json-0.6.7-py3-none-any.whl (28 kB)\n",
            "Downloading langchain_core-0.2.28-py3-none-any.whl (379 kB)\n",
            "\u001b[2K   \u001b[90m━━━━━━━━━━━━━━━━━━━━━━━━━━━━━━━━━━━━━━━━\u001b[0m \u001b[32m379.9/379.9 kB\u001b[0m \u001b[31m7.9 MB/s\u001b[0m eta \u001b[36m0:00:00\u001b[0m\n",
            "\u001b[?25hDownloading langchain_text_splitters-0.2.2-py3-none-any.whl (25 kB)\n",
            "Downloading langsmith-0.1.96-py3-none-any.whl (140 kB)\n",
            "\u001b[2K   \u001b[90m━━━━━━━━━━━━━━━━━━━━━━━━━━━━━━━━━━━━━━━━\u001b[0m \u001b[32m140.1/140.1 kB\u001b[0m \u001b[31m6.0 MB/s\u001b[0m eta \u001b[36m0:00:00\u001b[0m\n",
            "\u001b[?25hDownloading tenacity-8.5.0-py3-none-any.whl (28 kB)\n",
            "Downloading jsonpatch-1.33-py2.py3-none-any.whl (12 kB)\n",
            "Downloading marshmallow-3.21.3-py3-none-any.whl (49 kB)\n",
            "\u001b[2K   \u001b[90m━━━━━━━━━━━━━━━━━━━━━━━━━━━━━━━━━━━━━━━━\u001b[0m \u001b[32m49.2/49.2 kB\u001b[0m \u001b[31m2.6 MB/s\u001b[0m eta \u001b[36m0:00:00\u001b[0m\n",
            "\u001b[?25hDownloading orjson-3.10.6-cp310-cp310-manylinux_2_17_x86_64.manylinux2014_x86_64.whl (141 kB)\n",
            "\u001b[2K   \u001b[90m━━━━━━━━━━━━━━━━━━━━━━━━━━━━━━━━━━━━━━━━\u001b[0m \u001b[32m141.1/141.1 kB\u001b[0m \u001b[31m4.1 MB/s\u001b[0m eta \u001b[36m0:00:00\u001b[0m\n",
            "\u001b[?25hDownloading typing_inspect-0.9.0-py3-none-any.whl (8.8 kB)\n",
            "Downloading jsonpointer-3.0.0-py2.py3-none-any.whl (7.6 kB)\n",
            "Downloading mypy_extensions-1.0.0-py3-none-any.whl (4.7 kB)\n",
            "Installing collected packages: tenacity, orjson, mypy-extensions, marshmallow, jsonpointer, typing-inspect, jsonpatch, openai, langsmith, dataclasses-json, langchain-core, langchain-text-splitters, langchain, langchain_community\n",
            "  Attempting uninstall: tenacity\n",
            "    Found existing installation: tenacity 9.0.0\n",
            "    Uninstalling tenacity-9.0.0:\n",
            "      Successfully uninstalled tenacity-9.0.0\n",
            "Successfully installed dataclasses-json-0.6.7 jsonpatch-1.33 jsonpointer-3.0.0 langchain-0.2.12 langchain-core-0.2.28 langchain-text-splitters-0.2.2 langchain_community-0.2.11 langsmith-0.1.96 marshmallow-3.21.3 mypy-extensions-1.0.0 openai-0.28.0 orjson-3.10.6 tenacity-8.5.0 typing-inspect-0.9.0\n",
            "Requirement already satisfied: matplotlib in /usr/local/lib/python3.10/dist-packages (3.7.1)\n",
            "Requirement already satisfied: pillow in /usr/local/lib/python3.10/dist-packages (9.4.0)\n",
            "Requirement already satisfied: contourpy>=1.0.1 in /usr/local/lib/python3.10/dist-packages (from matplotlib) (1.2.1)\n",
            "Requirement already satisfied: cycler>=0.10 in /usr/local/lib/python3.10/dist-packages (from matplotlib) (0.12.1)\n",
            "Requirement already satisfied: fonttools>=4.22.0 in /usr/local/lib/python3.10/dist-packages (from matplotlib) (4.53.1)\n",
            "Requirement already satisfied: kiwisolver>=1.0.1 in /usr/local/lib/python3.10/dist-packages (from matplotlib) (1.4.5)\n",
            "Requirement already satisfied: numpy>=1.20 in /usr/local/lib/python3.10/dist-packages (from matplotlib) (1.26.4)\n",
            "Requirement already satisfied: packaging>=20.0 in /usr/local/lib/python3.10/dist-packages (from matplotlib) (24.1)\n",
            "Requirement already satisfied: pyparsing>=2.3.1 in /usr/local/lib/python3.10/dist-packages (from matplotlib) (3.1.2)\n",
            "Requirement already satisfied: python-dateutil>=2.7 in /usr/local/lib/python3.10/dist-packages (from matplotlib) (2.8.2)\n",
            "Requirement already satisfied: six>=1.5 in /usr/local/lib/python3.10/dist-packages (from python-dateutil>=2.7->matplotlib) (1.16.0)\n",
            "Collecting duckduckgo-search\n",
            "  Downloading duckduckgo_search-6.2.6-py3-none-any.whl.metadata (24 kB)\n",
            "Requirement already satisfied: click>=8.1.7 in /usr/local/lib/python3.10/dist-packages (from duckduckgo-search) (8.1.7)\n",
            "Collecting primp>=0.5.5 (from duckduckgo-search)\n",
            "  Downloading primp-0.5.5-cp38-abi3-manylinux_2_17_x86_64.manylinux2014_x86_64.whl.metadata (10 kB)\n",
            "Downloading duckduckgo_search-6.2.6-py3-none-any.whl (27 kB)\n",
            "Downloading primp-0.5.5-cp38-abi3-manylinux_2_17_x86_64.manylinux2014_x86_64.whl (3.0 MB)\n",
            "\u001b[2K   \u001b[90m━━━━━━━━━━━━━━━━━━━━━━━━━━━━━━━━━━━━━━━━\u001b[0m \u001b[32m3.0/3.0 MB\u001b[0m \u001b[31m33.0 MB/s\u001b[0m eta \u001b[36m0:00:00\u001b[0m\n",
            "\u001b[?25hInstalling collected packages: primp, duckduckgo-search\n",
            "Successfully installed duckduckgo-search-6.2.6 primp-0.5.5\n"
          ]
        }
      ],
      "source": [
        "!pip install langchain langchain_community openai==0.28\n",
        "!pip install matplotlib pillow\n",
        "!pip install -U duckduckgo-search"
      ]
    },
    {
      "cell_type": "code",
      "execution_count": null,
      "metadata": {
        "id": "1ewhO5P2xss9"
      },
      "outputs": [],
      "source": [
        "import os\n",
        "import time\n",
        "from bs4 import BeautifulSoup\n",
        "import re\n",
        "import requests\n",
        "import warnings\n",
        "\n",
        "import langchain\n",
        "from langchain.llms import OpenAI\n",
        "from langchain.agents import load_tools, AgentType, Tool, initialize_agent"
      ]
    },
    {
      "cell_type": "code",
      "execution_count": null,
      "metadata": {
        "id": "b-DbkzxvzIRy"
      },
      "outputs": [],
      "source": [
        "import os\n",
        "import time\n",
        "from bs4 import BeautifulSoup\n",
        "import re\n",
        "import requests\n",
        "import warnings\n",
        "\n",
        "import langchain\n",
        "from langchain.llms import OpenAI\n",
        "from langchain.agents import load_tools, AgentType, Tool, initialize_agent"
      ]
    },
    {
      "cell_type": "code",
      "execution_count": null,
      "metadata": {
        "id": "zM41MNWDzND5"
      },
      "outputs": [],
      "source": [
        "os.environ[\"OPENAI_API_KEY\"] = \"Enter Your API key here\"\n",
        "\n",
        "warnings.filterwarnings(\"ignore\")"
      ]
    },
    {
      "cell_type": "code",
      "execution_count": null,
      "metadata": {
        "id": "jO60Raz7zd2J"
      },
      "outputs": [],
      "source": [
        "llm=OpenAI(temperature=0,\n",
        "           model_name=\"gpt-4o-mini\")"
      ]
    },
    {
      "cell_type": "markdown",
      "metadata": {
        "id": "L0QMbute1DAc"
      },
      "source": [
        "# Tools"
      ]
    },
    {
      "cell_type": "markdown",
      "metadata": {
        "id": "lfgGdOIZvlGb"
      },
      "source": [
        "**Finding the ticker symbol of the stock**"
      ]
    },
    {
      "cell_type": "code",
      "execution_count": null,
      "metadata": {
        "id": "OUPa66xHS-si"
      },
      "outputs": [],
      "source": [
        "from langchain.output_parsers import ResponseSchema\n",
        "from langchain.output_parsers import StructuredOutputParser\n",
        "from langchain.prompts import ChatPromptTemplate\n",
        "\n",
        "def find_ticker_symbol(customer_question):\n",
        "\n",
        "    ticker_symbol_schema = ResponseSchema(\n",
        "        name=\"ticker_symbol\",\n",
        "        description= \"Extract the ticker symbol for the stock mentioned in the text. If the ticker symbol for the given stock name cannot be identified or does not exist, return 'NOTFOUND'. \\Ensure that the extracted ticker symbol is accurate and corresponds directly to the stock name provided.\"\n",
        "    )\n",
        "\n",
        "    output_parser = StructuredOutputParser.from_response_schemas([ticker_symbol_schema])\n",
        "    format_instructions = output_parser.get_format_instructions()\n",
        "\n",
        "    review_template = f\"\"\"\\\n",
        "    For the following text, extract the following information:\n",
        "\n",
        "    ticker_symbol: Extract the ticker symbol for the stock mentioned in the text.\\\n",
        "     If the ticker symbol for the given stock name cannot be identified or does not exist, return 'NOTFOUND'. \\\n",
        "     Ensure that the extracted ticker symbol is accurate and corresponds directly to the stock name provided.\n",
        "    text: {{text}}\n",
        "\n",
        "    {{format_instructions}}\n",
        "    \"\"\"\n",
        "    prompt_template = ChatPromptTemplate.from_template(review_template)\n",
        "\n",
        "    messages = prompt_template.format_messages(text=customer_question, format_instructions=format_instructions)\n",
        "\n",
        "    # Invoke the LLM with the formatted messages\n",
        "    response = llm.invoke(messages)\n",
        "\n",
        "    # Parse the output from the response\n",
        "    try:\n",
        "        output_dict = output_parser.parse(response)\n",
        "        return output_dict.get(\"ticker_symbol\", \"NOTFOUND\")\n",
        "    except Exception as e:\n",
        "        print(f\"Error processing response: {e}\")\n",
        "        return \"NOTFOUND\"\n",
        "\n",
        "#print(find_ticker_symbol(\"How is the APPLE stock doing today\"))\n"
      ]
    },
    {
      "cell_type": "markdown",
      "metadata": {
        "id": "Er3vDJnmvxCF"
      },
      "source": [
        "**Function for finding the basic information of the stock**"
      ]
    },
    {
      "cell_type": "code",
      "execution_count": null,
      "metadata": {
        "id": "2UrVooQPZChU"
      },
      "outputs": [],
      "source": [
        "import yfinance as yf\n",
        "\n",
        "def basic_stock_info(customer_question):\n",
        "  ticker_symbol = find_ticker_symbol(customer_question)\n",
        "  if ticker_symbol == \"NOTFOUND\":\n",
        "    return \"Error processing stock name in the question\"\n",
        "  try:\n",
        "    ticker = yf.Ticker(ticker_symbol)\n",
        "  except Exception as e:\n",
        "    return(\"Error processing response\")\n",
        "\n",
        "  info = ticker.info\n",
        "\n",
        "  company_info = (\n",
        "    f\"Below are the Basic details of {info['longName']} ::\\n\"\n",
        "    f\"Company name: {info['longName']},\\n\"\n",
        "    f\"Current price: {info['currentPrice']},\\n\"\n",
        "    f\"Market cap: {info['marketCap']},\\n\"\n",
        "    f\"PE Ratio (Trailing): {info['trailingPE']},\\n\"\n",
        "    f\"Dividend Yield: {info['dividendYield'] * 100:.2f}%,\\n\"\n",
        "    f\"52-Week High: {info['fiftyTwoWeekHigh']} USD,\\n\"\n",
        "    f\"52-Week Low: {info['fiftyTwoWeekLow']} USD, \\n\"\n",
        "    f\"Forward PE Ratio: {info['forwardPE']},\"\n",
        "  )\n",
        "\n",
        "  return company_info\n",
        "\n",
        "#print(basic_stock_info(\"AAPL\"))"
      ]
    },
    {
      "cell_type": "markdown",
      "metadata": {
        "id": "VEDpUbH2wFyd"
      },
      "source": [
        "**Function for finding any specfic information or details of the stock**"
      ]
    },
    {
      "cell_type": "code",
      "execution_count": null,
      "metadata": {
        "id": "_CpdTyD3vVnT"
      },
      "outputs": [],
      "source": [
        "import yfinance as yf\n",
        "import json\n",
        "\n",
        "def specific_stock_inforatiom(customer_question):\n",
        "  ticker_symbol = find_ticker_symbol(customer_question)\n",
        "  if ticker_symbol == \"NOTFOUND\":\n",
        "    return \"Error processing stock name in the question\"\n",
        "  try:\n",
        "    ticker = yf.Ticker(ticker_symbol)\n",
        "  except Exception as e:\n",
        "    return(\"Error processing response\")\n",
        "\n",
        "  details = str([\n",
        "    str(ticker.info),\n",
        "    ticker.recommendations.to_string(),\n",
        "    ticker.balance_sheet.to_string(),\n",
        "    ticker.financials.to_string(),\n",
        "    ticker.cashflow.to_string(),\n",
        "    ticker.actions.to_string(),\n",
        "    ticker.sustainability.to_string(),\n",
        "    ticker.institutional_holders.to_string(),\n",
        "    ticker.mutualfund_holders.to_string(),\n",
        "    ticker.major_holders.to_string()\n",
        "  ])\n",
        "\n",
        "  return details\n",
        "\n",
        "#print(specific_stock_inforatiom(\"How is APPLE looking today\"))"
      ]
    },
    {
      "cell_type": "markdown",
      "source": [
        "**Function for plotting the historic stock price**"
      ],
      "metadata": {
        "id": "9pXasnf7h829"
      }
    },
    {
      "cell_type": "code",
      "source": [
        "import matplotlib.pyplot as plt\n",
        "\n",
        "def generate_matplotlib_graph(customer_query, filename='graph.png'):\n",
        "  ticker_symbol = find_ticker_symbol(customer_query)\n",
        "  if ticker_symbol == \"NOTFOUND\":\n",
        "    return \"Error processing stock name in the question\"\n",
        "  try:\n",
        "    ticker = yf.Ticker(ticker_symbol)\n",
        "  except Exception as e:\n",
        "    return(\"Error processing response\")\n",
        "\n",
        "  try:\n",
        "    historical_data = ticker.history(period=\"max\")\n",
        "  except Exception as e:\n",
        "    return \"Error fetching historical data: \" + str(e)\n",
        "\n",
        "  plt.plot(historical_data.index, historical_data[\"Close\"], linestyle='-', color='b')\n",
        "  plt.ylabel(\"Price in USD\")\n",
        "  plt.title(\"Historic stock price\")\n",
        "  plt.grid(True)\n",
        "\n",
        "  image_path = os.path.join(\"/content\", filename)\n",
        "\n",
        "  try:\n",
        "    plt.savefig(image_path)\n",
        "  except Exception as e:\n",
        "    return \"Error saving plot: \" + str(e)\n",
        "  finally:\n",
        "        plt.close()\n",
        "\n",
        "  return image_path\n",
        "generate_matplotlib_graph(\"Apple stock\")"
      ],
      "metadata": {
        "colab": {
          "base_uri": "https://localhost:8080/",
          "height": 35
        },
        "id": "TxpmXvXKiBe1",
        "outputId": "8a25c6d9-6c9f-4fd0-cf9c-c36ce046c7fb"
      },
      "execution_count": null,
      "outputs": [
        {
          "output_type": "execute_result",
          "data": {
            "text/plain": [
              "'/content/graph.png'"
            ],
            "application/vnd.google.colaboratory.intrinsic+json": {
              "type": "string"
            }
          },
          "metadata": {},
          "execution_count": 12
        }
      ]
    },
    {
      "cell_type": "markdown",
      "source": [
        "**Function for stock price prediction**"
      ],
      "metadata": {
        "id": "kGKaJwbyXGbc"
      }
    },
    {
      "cell_type": "code",
      "source": [
        "import yfinance as yf\n",
        "import numpy as np\n",
        "import pandas as pd\n",
        "import matplotlib.pyplot as plt\n",
        "import tensorflow as tf\n",
        "from sklearn.preprocessing import MinMaxScaler\n",
        "from tensorflow.keras.models import Sequential\n",
        "from tensorflow.keras.layers import Dense, LSTM\n",
        "\n",
        "def stock_price_prediction(customer_query):\n",
        "  ticker_symbol = find_ticker_symbol(customer_query)\n",
        "  if ticker_symbol == \"NOTFOUND\":\n",
        "    return \"Error processing stock name in the question\"\n",
        "  try:\n",
        "    ticker = yf.Ticker(ticker_symbol)\n",
        "    historical_data = ticker.history(period=\"1y\")\n",
        "    data = historical_data.filter(['Close'])\n",
        "    dataset = data.values\n",
        "    training_data_len = int(np.ceil( len(dataset) * .95 ))\n",
        "    scaler = MinMaxScaler(feature_range=(0,1))\n",
        "    scaled_data = scaler.fit_transform(dataset)\n",
        "    train_data = scaled_data[0:int(training_data_len), :]\n",
        "    x_train = []\n",
        "    y_train = []\n",
        "    for i in range(60, len(train_data)):\n",
        "\n",
        "      x_train.append(train_data[i-60:i, 0])\n",
        "      y_train.append(train_data[i, 0])\n",
        "    x_train, y_train = np.array(x_train), np.array(y_train)\n",
        "    x_train = np.reshape(x_train, (x_train.shape[0], x_train.shape[1], 1))\n",
        "\n",
        "    # Build the LSTM model\n",
        "    model = Sequential()\n",
        "    model.add(LSTM(128, return_sequences=True, input_shape= (x_train.shape[1], 1)))\n",
        "    model.add(LSTM(64, return_sequences=False))\n",
        "    model.add(Dense(25))\n",
        "    model.add(Dense(1))\n",
        "\n",
        "    #Compile\n",
        "    model.compile(optimizer='adam', loss='mean_squared_error')\n",
        "\n",
        "    # Train the model\n",
        "    model.fit(x_train, y_train, batch_size=1, epochs=1, verbose = False)\n",
        "\n",
        "    test_data = scaled_data[training_data_len - 60: , :]\n",
        "    # Create the data sets x_test and y_test\n",
        "    x_test = []\n",
        "    y_test = dataset[training_data_len:, :]\n",
        "    for i in range(60, len(test_data)):\n",
        "      x_test.append(test_data[i-60:i, 0])\n",
        "    x_test = np.array(x_test)\n",
        "    x_test = np.reshape(x_test, (x_test.shape[0], x_test.shape[1], 1 ))\n",
        "    # Predictions\n",
        "    predictions = model.predict(x_test, verbose = False)\n",
        "    predictions = scaler.inverse_transform(predictions)\n",
        "\n",
        "    rmse = np.sqrt(np.mean((predictions - y_test) ** 2))\n",
        "    mean_y_test = np.mean(y_test)\n",
        "\n",
        "    # Calculate the percentage error\n",
        "    percentage_error = (rmse / mean_y_test) * 100\n",
        "\n",
        "    result = f\"The stock price is predicted with  {percentage_error:.2f}% error:\"\n",
        "    # train = data[:training_data_len]\n",
        "    # valid = data[training_data_len:]\n",
        "    # valid['Predictions'] = predictions\n",
        "    # # Visualize the data\n",
        "    # plt.figure(figsize=(7,5))\n",
        "    # plt.title('Model')\n",
        "    # plt.xlabel('Date', fontsize=18)\n",
        "    # plt.ylabel('Close Price USD ($)', fontsize=18)\n",
        "    # plt.plot(train['Close'])\n",
        "    # plt.plot(valid[['Close', 'Predictions']])\n",
        "    # plt.plot()\n",
        "    # plt.legend(['Train', 'Val', 'Predictions'], loc='lower right')\n",
        "    # plt.show()\n",
        "\n",
        "    #Forecasting the price\n",
        "    future_data = historical_data.filter(['Close'])\n",
        "    last_90_days = future_data[-90:]\n",
        "    last_90_days_scaled = scaler.transform(last_90_days)\n",
        "    X_test = []\n",
        "    X_test.append(last_90_days_scaled)\n",
        "    X_test = np.array(X_test)\n",
        "    X_test = np.reshape(X_test, (X_test.shape[0], X_test.shape[1], 1))\n",
        "    predicted_prices = []\n",
        "    for i in range(10):\n",
        "        predicted_price = model.predict(X_test, verbose = False)\n",
        "        predicted_prices.append(predicted_price[0][0])\n",
        "        X_test = np.append(X_test, [predicted_price], axis=1)\n",
        "\n",
        "    # invert the scaling\n",
        "    predicted_prices = np.array(predicted_prices).reshape(-1, 1)\n",
        "    predicted_prices = scaler.inverse_transform(predicted_prices)\n",
        "    print(\"Predicted stock price for next 10 days ::\")\n",
        "    for i in range(0, len(predicted_prices)):\n",
        "      result = result + f\"\\n Day {i+1} is {predicted_prices[i][0]} \"\n",
        "\n",
        "  except Exception as e:\n",
        "    return(\"Error processing response\")\n",
        "\n",
        "  return result\n",
        "print(stock_price_prediction(\"Apple stock\"))"
      ],
      "metadata": {
        "colab": {
          "base_uri": "https://localhost:8080/"
        },
        "id": "p_e4k4NvXFel",
        "outputId": "84224a0b-6c18-4f06-883e-837c02ced60d"
      },
      "execution_count": null,
      "outputs": [
        {
          "output_type": "stream",
          "name": "stdout",
          "text": [
            "Predicted stock price for next 10 days ::\n",
            "The stock price is predicted with  4.23% error:\n",
            " Day 1 is 222.2845001220703 \n",
            " Day 2 is 222.1595458984375 \n",
            " Day 3 is 222.2861785888672 \n",
            " Day 4 is 222.58233642578125 \n",
            " Day 5 is 222.99215698242188 \n",
            " Day 6 is 223.47811889648438 \n",
            " Day 7 is 224.01548767089844 \n",
            " Day 8 is 224.5882568359375 \n",
            " Day 9 is 225.18614196777344 \n",
            " Day 10 is 225.80267333984375 \n"
          ]
        }
      ]
    },
    {
      "cell_type": "markdown",
      "source": [
        "**Finding the agent execution tool chain**"
      ],
      "metadata": {
        "id": "ynYXuCBC78A8"
      }
    },
    {
      "cell_type": "code",
      "source": [
        "import re\n",
        "def find_tools_chain(intermediate_string):\n",
        "  # Define the patterns\n",
        "  intermediate_string = str(intermediate_string)\n",
        "  tool_pattern = re.compile(r\"tool='([^']*)'\")\n",
        "  tool_input_pattern = re.compile(r\"tool_input='([^']*)'\")\n",
        "\n",
        "  # Find the matchees\n",
        "  tools = tool_pattern.findall(intermediate_string)\n",
        "  tool_inputs = tool_input_pattern.findall(intermediate_string)\n",
        "\n",
        "  tool_chain = \" --> \".join(tools)\n",
        "\n",
        "  return tool_chain\n",
        "#find_tools_chain(response[\"intermediate_steps\"])"
      ],
      "metadata": {
        "id": "en4zoUBK8AiX"
      },
      "execution_count": null,
      "outputs": []
    },
    {
      "cell_type": "code",
      "execution_count": null,
      "metadata": {
        "id": "sRr6AD7BUtm7"
      },
      "outputs": [],
      "source": [
        "import langchain\n",
        "from langchain.llms import OpenAI\n",
        "from langchain.agents import load_tools, AgentType, Tool, initialize_agent"
      ]
    },
    {
      "cell_type": "code",
      "execution_count": null,
      "metadata": {
        "colab": {
          "base_uri": "https://localhost:8080/",
          "height": 35
        },
        "id": "jP6T9AQgVl2V",
        "outputId": "0dce98be-c2eb-4247-a1f2-b9332bf458f7"
      },
      "outputs": [
        {
          "output_type": "execute_result",
          "data": {
            "text/plain": [
              "'Hello! How can I assist you today?'"
            ],
            "application/vnd.google.colaboratory.intrinsic+json": {
              "type": "string"
            }
          },
          "metadata": {},
          "execution_count": 16
        }
      ],
      "source": [
        "llm.invoke(\"Hello\")"
      ]
    },
    {
      "cell_type": "code",
      "execution_count": null,
      "metadata": {
        "id": "ejTzwigPVuj7"
      },
      "outputs": [],
      "source": [
        "tools = [\n",
        "    Tool(\n",
        "        name = \"find stock ticker symbol\",\n",
        "        func =  find_ticker_symbol ,\n",
        "        description = \"Use when you want to extract the ticker symbol of the stock\"\n",
        "\n",
        "    ),\n",
        "    Tool(\n",
        "        name = \"specific stock information\",\n",
        "        func = specific_stock_inforatiom ,\n",
        "        description = \"Use when to find the specific details or information of the stock\"\n",
        "    ),\n",
        "    Tool(\n",
        "        name = \"Historic stock plot\",\n",
        "        func = generate_matplotlib_graph ,\n",
        "        description = \"Use when you want to show or display the image path of image of historic stock price \"\n",
        "    ),\n",
        "    Tool(\n",
        "        name = \"Stock price prediction\" ,\n",
        "        func = stock_price_prediction ,\n",
        "        description = \"Use when you want to forecast or predict the future stock price\"\n",
        "    )\n",
        "]\n"
      ]
    },
    {
      "cell_type": "code",
      "execution_count": null,
      "metadata": {
        "id": "AuIGvI_hWcv1"
      },
      "outputs": [],
      "source": [
        "from langchain.agents import initialize_agent\n",
        "\n",
        "zero_shot_agent=initialize_agent(\n",
        "    llm=llm,\n",
        "    agent=\"zero-shot-react-description\",\n",
        "    tools=tools,\n",
        "    verbose=False,\n",
        "    max_iteration=4,\n",
        "    return_intermediate_steps=True,\n",
        "    handle_parsing_errors=True\n",
        ")"
      ]
    },
    {
      "cell_type": "code",
      "execution_count": null,
      "metadata": {
        "colab": {
          "base_uri": "https://localhost:8080/"
        },
        "id": "s_29Wa6UWf59",
        "outputId": "3110d42f-479a-4737-e356-55dbf9f1ec2c"
      },
      "outputs": [
        {
          "output_type": "stream",
          "name": "stdout",
          "text": [
            "Answer the following questions as best you can. You have access to the following tools:\n",
            "\n",
            "find stock ticker symbol(customer_question) - Use when you want to extract the ticker symbol of the stock\n",
            "specific stock information(customer_question) - Use when to find the specific details or information of the stock\n",
            "Historic stock plot(customer_query, filename='graph.png') - Use when you want to show or display the image path of image of historic stock price \n",
            "Stock price prediction(customer_query) - Use when you want to forecast or predict the future stock price\n",
            "\n",
            "Use the following format:\n",
            "\n",
            "Question: the input question you must answer\n",
            "Thought: you should always think about what to do\n",
            "Action: the action to take, should be one of [find stock ticker symbol, specific stock information, Historic stock plot, Stock price prediction]\n",
            "Action Input: the input to the action\n",
            "Observation: the result of the action\n",
            "... (this Thought/Action/Action Input/Observation can repeat N times)\n",
            "Thought: I now know the final answer\n",
            "Final Answer: the final answer to the original input question\n",
            "\n",
            "Begin!\n",
            "\n",
            "Question: {input}\n",
            "Thought:{agent_scratchpad}\n"
          ]
        }
      ],
      "source": [
        "print(zero_shot_agent.agent.llm_chain.prompt.template)"
      ]
    },
    {
      "cell_type": "code",
      "execution_count": null,
      "metadata": {
        "id": "ufjk8IKIye2I"
      },
      "outputs": [],
      "source": [
        "new_prompt = \"\"\"You are a financial advisor Chatbot.Keep the reponses small and concise.You are a financial advisor tasked with\n",
        "advising the users with the stock information.I\n",
        "\n",
        "Answer the following questions as best you can .You have access to the following tools:\n",
        "\n",
        "find stock ticker symbol(customer_question) - Use when you want to extract the ticker symbol of the stock\n",
        "specific stock information(customer_question) - Use when to find the information or detials  of a stock\n",
        "Historic stock plot(customer_query, filename='graph.png') - Use when you want to show or display the image path of image of historic stock price\n",
        "Stock price prediction(customer_query) - Use when you want to forecast or predict the future stock price\n",
        "\n",
        "\n",
        "Use the following format:\n",
        "\n",
        "Question: the input question you must answer\n",
        "Thought: you should always think about what to do\n",
        "Action: the action to take, should be one of [find stock ticker symbol, basic stock info]\n",
        "Action Input: the input to the action\n",
        "Observation: the result of the action\n",
        "... (this Thought/Action/Action Input/Observation can repeat N times)\n",
        "Thought: I now know the final answer\n",
        "Final Answer: the final answer to the original input question\n",
        "\n",
        "Begin!\n",
        "\n",
        "Question: {input}\n",
        "Thought:{agent_scratchpad}\"\"\""
      ]
    },
    {
      "cell_type": "code",
      "execution_count": null,
      "metadata": {
        "id": "EDkQd8OwYqnq"
      },
      "outputs": [],
      "source": [
        "zero_shot_agent.agent.llm_chain.prompt.template=new_prompt"
      ]
    },
    {
      "cell_type": "code",
      "execution_count": null,
      "metadata": {
        "colab": {
          "base_uri": "https://localhost:8080/"
        },
        "id": "VReItAg5Yt8L",
        "outputId": "5808bbaa-5ec6-4c76-fa17-a80c87d520cc"
      },
      "outputs": [
        {
          "output_type": "stream",
          "name": "stdout",
          "text": [
            "Apple Inc. (AAPL) is currently priced at $219.86, with a market cap of approximately $3.34 trillion. It operates in the Consumer Electronics industry and has a dividend yield of 0.45%. The stock has a 52-week range of $164.08 to $237.23. For more details, visit [Apple's website](https://www.apple.com).\n",
            "Execution tool chain ::\n",
            "  find stock ticker symbol --> specific stock information\n"
          ]
        },
        {
          "output_type": "execute_result",
          "data": {
            "text/plain": [
              "(None, None)"
            ]
          },
          "metadata": {},
          "execution_count": 22
        }
      ],
      "source": [
        "response = zero_shot_agent(\"How does apple stock looks like\")\n",
        "print(response[\"output\"]), print(\"Execution tool chain ::\\n \",find_tools_chain(response[\"intermediate_steps\"]))"
      ]
    },
    {
      "cell_type": "code",
      "execution_count": null,
      "metadata": {
        "colab": {
          "base_uri": "https://localhost:8080/"
        },
        "id": "D3nSQJO4ruTQ",
        "outputId": "1d9cf1be-4ca1-4cfe-80a3-3cb50b4edfff"
      },
      "outputs": [
        {
          "output_type": "stream",
          "name": "stdout",
          "text": [
            "The ticker symbol for NVIDIA stock is NVDA.\n",
            "Execution tool chain ::\n",
            "  find stock ticker symbol\n"
          ]
        },
        {
          "output_type": "execute_result",
          "data": {
            "text/plain": [
              "(None, None)"
            ]
          },
          "metadata": {},
          "execution_count": 23
        }
      ],
      "source": [
        "response = zero_shot_agent(\"What is the ticker symbol of NVIDIA stock\")\n",
        "print(response[\"output\"]), print(\"Execution tool chain ::\\n \",find_tools_chain(response[\"intermediate_steps\"]))"
      ]
    },
    {
      "cell_type": "code",
      "execution_count": null,
      "metadata": {
        "colab": {
          "base_uri": "https://localhost:8080/"
        },
        "id": "S5aDaH38dX2Q",
        "outputId": "cf57c5e2-e7fe-4805-d7ba-46a95c243c00"
      },
      "outputs": [
        {
          "output_type": "stream",
          "name": "stdout",
          "text": [
            "I couldn't find any information on NANDA stock. Please check the name or provide a different stock.\n",
            "Execution tool chain ::\n",
            "  find stock ticker symbol\n"
          ]
        },
        {
          "output_type": "execute_result",
          "data": {
            "text/plain": [
              "(None, None)"
            ]
          },
          "metadata": {},
          "execution_count": 24
        }
      ],
      "source": [
        "response = zero_shot_agent(\"Give me the basic details of the NANDA stock\")\n",
        "print(response[\"output\"]), print(\"Execution tool chain ::\\n \",find_tools_chain(response[\"intermediate_steps\"]))"
      ]
    },
    {
      "cell_type": "code",
      "execution_count": null,
      "metadata": {
        "colab": {
          "base_uri": "https://localhost:8080/"
        },
        "id": "w-za9dgbsxs9",
        "outputId": "e6400d38-7dbb-4e9e-b8b9-e58f2d1a9075"
      },
      "outputs": [
        {
          "output_type": "stream",
          "name": "stdout",
          "text": [
            "NVIDIA's last quarter performance shows a significant increase in revenue and net income, with total revenue of approximately $60.92 billion and net income of about $29.76 billion. The stock is currently trading at $107.27.\n",
            "Execution tool chain ::\n",
            "  find stock ticker symbol --> specific stock information\n"
          ]
        },
        {
          "output_type": "execute_result",
          "data": {
            "text/plain": [
              "(None, None)"
            ]
          },
          "metadata": {},
          "execution_count": 25
        }
      ],
      "source": [
        "response = zero_shot_agent(\"Give me last quarter  performance of the nvidia stock\")\n",
        "print(response[\"output\"]), print(\"Execution tool chain ::\\n \",find_tools_chain(response[\"intermediate_steps\"]))"
      ]
    },
    {
      "cell_type": "code",
      "source": [
        "response = zero_shot_agent(\"What is return on Assets of the nvidia stock\")\n",
        "print(response[\"output\"]), print(\"Execution tool chain ::\\n \",find_tools_chain(response[\"intermediate_steps\"]))"
      ],
      "metadata": {
        "colab": {
          "base_uri": "https://localhost:8080/"
        },
        "id": "xkDEU0mx1qzG",
        "outputId": "0a771066-df3f-4c37-ee52-dc2dee1e3066"
      },
      "execution_count": null,
      "outputs": [
        {
          "output_type": "stream",
          "name": "stdout",
          "text": [
            "The return on assets (ROA) for NVIDIA (NVDA) is approximately 49.1%.\n",
            "Execution tool chain ::\n",
            "  find stock ticker symbol --> specific stock information\n"
          ]
        },
        {
          "output_type": "execute_result",
          "data": {
            "text/plain": [
              "(None, None)"
            ]
          },
          "metadata": {},
          "execution_count": 26
        }
      ]
    },
    {
      "cell_type": "code",
      "source": [
        "response = zero_shot_agent(\"Give me a stock name which i should not invest with an example and why(Show the details)\")\n",
        "print(response[\"output\"]), print(\"Execution tool chain ::\\n \",find_tools_chain(response[\"intermediate_steps\"]))"
      ],
      "metadata": {
        "colab": {
          "base_uri": "https://localhost:8080/"
        },
        "id": "6UsLCjfemDLT",
        "outputId": "78d70324-ee4a-4b80-b803-87213d2a7638"
      },
      "execution_count": null,
      "outputs": [
        {
          "output_type": "stream",
          "name": "stderr",
          "text": [
            "ERROR:yfinance:404 Client Error: Not Found for url: https://query2.finance.yahoo.com/v10/finance/quoteSummary/GME?modules=esgScores&corsDomain=finance.yahoo.com&formatted=false&symbol=GME&crumb=s8vl76%2FamZX\n"
          ]
        },
        {
          "output_type": "stream",
          "name": "stdout",
          "text": [
            "A stock often advised against is GameStop (GME). It has high volatility, a trailing P/E ratio of 263.38, and significant debt, making it a risky investment.\n",
            "Execution tool chain ::\n",
            "  find stock ticker symbol --> specific stock information\n"
          ]
        },
        {
          "output_type": "execute_result",
          "data": {
            "text/plain": [
              "(None, None)"
            ]
          },
          "metadata": {},
          "execution_count": 27
        }
      ]
    },
    {
      "cell_type": "code",
      "source": [
        "response = zero_shot_agent(\"What is the current price of the apple stock\")\n",
        "print(response[\"output\"]), print(\"Execution tool chain ::\\n \",find_tools_chain(response[\"intermediate_steps\"]))"
      ],
      "metadata": {
        "colab": {
          "base_uri": "https://localhost:8080/"
        },
        "id": "FH_N9JCPmnTz",
        "outputId": "f3e4a0a6-b169-48f5-925f-bdbd00e71fb0"
      },
      "execution_count": null,
      "outputs": [
        {
          "output_type": "stream",
          "name": "stdout",
          "text": [
            "The current price of Apple stock (AAPL) is $219.86.\n",
            "Execution tool chain ::\n",
            "  find stock ticker symbol --> specific stock information\n"
          ]
        },
        {
          "output_type": "execute_result",
          "data": {
            "text/plain": [
              "(None, None)"
            ]
          },
          "metadata": {},
          "execution_count": 28
        }
      ]
    },
    {
      "cell_type": "code",
      "source": [
        "import yfinance as yf\n",
        "\n",
        "ticker = yf.Ticker(\"AAPL\")\n",
        "details = [\n",
        "str(ticker.info),\n",
        "ticker.recommendations.to_string(),\n",
        "ticker.balance_sheet.to_string(),\n",
        "ticker.financials.to_string(),\n",
        "ticker.cashflow.to_string(),\n",
        "]"
      ],
      "metadata": {
        "id": "xryQvjTIu1bi"
      },
      "execution_count": null,
      "outputs": []
    },
    {
      "cell_type": "code",
      "source": [
        "response = zero_shot_agent(\"Show me a plot of  apple stock price over years\")\n",
        "print(response[\"output\"]), print(\"Execution tool chain ::\\n \",find_tools_chain(response[\"intermediate_steps\"]))"
      ],
      "metadata": {
        "colab": {
          "base_uri": "https://localhost:8080/"
        },
        "id": "4eJLaOAa2U42",
        "outputId": "197919ef-5469-49a5-cc74-8c3df0354bbb"
      },
      "execution_count": null,
      "outputs": [
        {
          "output_type": "stream",
          "name": "stdout",
          "text": [
            "You can view the historic stock price plot for Apple (AAPL) [here](sandbox:/content/graph.png).\n",
            "Execution tool chain ::\n",
            "  find stock ticker symbol --> Historic stock plot\n"
          ]
        },
        {
          "output_type": "execute_result",
          "data": {
            "text/plain": [
              "(None, None)"
            ]
          },
          "metadata": {},
          "execution_count": 34
        }
      ]
    },
    {
      "cell_type": "code",
      "source": [
        "# Script to scrap top5 googgle news for given company name\n",
        "\n",
        "def google_query(search_term):\n",
        "    if \"news\" not in search_term:\n",
        "        search_term=search_term+\" stock news\"\n",
        "    url=f\"https://www.google.com/search?q={search_term}&cr=countryIN\"\n",
        "    url=re.sub(r\"\\s\",\"+\",url)\n",
        "    return url\n",
        "\n",
        "def get_recent_stock_news(company_name):\n",
        "    # time.sleep(4) #To avoid rate limit error\n",
        "    headers={'User-Agent': 'Mozilla/5.0 (Windows NT 10.0; Win64; x64) AppleWebKit/537.36 (KHTML, like Gecko) Chrome/102.0.0.0 Safari/537.36'}\n",
        "\n",
        "    g_query=google_query(company_name)\n",
        "    res=requests.get(g_query,headers=headers).text\n",
        "    soup=BeautifulSoup(res,\"html.parser\")\n",
        "    news=[]\n",
        "    for n in soup.find_all(\"div\",\"n0jPhd ynAwRc tNxQIb nDgy9d\"):\n",
        "        news.append(n.text)\n",
        "    for n in soup.find_all(\"div\",\"IJl0Z\"):\n",
        "        news.append(n.text)\n",
        "\n",
        "\n",
        "    if len(news)>6:\n",
        "        news=news[:4]\n",
        "    else:\n",
        "        news=news\n",
        "    news_string=\"\"\n",
        "    for i,n in enumerate(news):\n",
        "        news_string+=f\"{i}. {n}\\n\"\n",
        "    top5_news=\"Recent News:\\n\\n\"+news_string\n",
        "\n",
        "    return top5_news\n",
        "\n",
        "\n",
        "print(get_recent_stock_news(\"apple\"))"
      ],
      "metadata": {
        "colab": {
          "base_uri": "https://localhost:8080/"
        },
        "id": "c_P7vDtkTcZa",
        "outputId": "5758cd5d-4167-4f4a-9b3e-77d6b8a292f8"
      },
      "execution_count": null,
      "outputs": [
        {
          "output_type": "stream",
          "name": "stdout",
          "text": [
            "Recent News:\n",
            "\n",
            "0. Warren Buffett’s Berkshire Hathaway slashes Apple stake by 50% on selling \n",
            "spree, cash holding nears $280 billion | Stock Market News\n",
            "1. Warren Buffett's Berkshire halves Apple stake, boosts cash to $277 billion \n",
            "even as operating profit sets r\n",
            "\n"
          ]
        }
      ]
    },
    {
      "cell_type": "code",
      "source": [
        "from langchain.tools import DuckDuckGoSearchRun\n",
        "search=DuckDuckGoSearchRun()\n",
        "\n",
        "search(\"Stock news apple\")"
      ],
      "metadata": {
        "colab": {
          "base_uri": "https://localhost:8080/",
          "height": 157
        },
        "id": "1cUz-WIPeYU-",
        "outputId": "df4cdeb8-e585-4f0c-fa51-a18f0003c8ba"
      },
      "execution_count": null,
      "outputs": [
        {
          "output_type": "execute_result",
          "data": {
            "text/plain": [
              "'Key Facts. Apple stock rose as much as 2.9% to a new intraday peak of $237.23 in Monday trading, with its over $234 share price by mid-afternoon on pace to top last week\\'s record close of $232. ... The Goldman Sachs analyst Michael Ng also grew more upbeat on Apple stock following its results.. Ng raised his Apple price target to $275 from $265, arguing that the iPhone maker was \"on the cusp ... Apple\\'s stock fluctuated narrowly in after-hours trading. The stock fell 1.7% on Thursday, but was still up 13% year-to-date through the close. Advertisement. 2024-08-01T21:59:53Z Apple\\'s stock surged 7% on Tuesday to reach a record-high close for the first time in 2024 as investors digested the announcement of its AI platform, Apple Intelligence.Shares in the iPhone maker ... Discover real-time Apple Inc. Common Stock (AAPL) stock prices, quotes, historical data, news, and Insights for informed trading and investment decisions. Stay ahead with Nasdaq.'"
            ],
            "application/vnd.google.colaboratory.intrinsic+json": {
              "type": "string"
            }
          },
          "metadata": {},
          "execution_count": 36
        }
      ]
    }
  ],
  "metadata": {
    "colab": {
      "provenance": []
    },
    "kernelspec": {
      "display_name": "Python 3",
      "name": "python3"
    },
    "language_info": {
      "name": "python"
    }
  },
  "nbformat": 4,
  "nbformat_minor": 0
}